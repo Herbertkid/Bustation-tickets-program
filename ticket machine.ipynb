{
 "cells": [
  {
   "cell_type": "code",
   "execution_count": 1,
   "metadata": {},
   "outputs": [],
   "source": [
    "from datetime import datetime\n",
    "\n",
    "FIRSTCAR = 8*60 # time when the first car departs, in minutes \n",
    "LASTBEFORE = 21*60 + 45 # last car will depart at or before this time \n",
    "INTERVAL = 2*60 + 45 # time interval between two consecutive cars \n",
    "CAPACITY = 3 # number of passengers in one car\n",
    "\n",
    "def timeNowMins():\n",
    "    ''' Function returns the current time, expressed as an integer number from\n",
    "        the beginning of the day. Also prints current time'''\n",
    "    now = datetime.now()\n",
    "    \n",
    "    print(\"Time now is \", now.strftime(\"%H:%M\"),)\n",
    "    return now.hour * 60 + now.minute"
   ]
  },
  {
   "cell_type": "code",
   "execution_count": null,
   "metadata": {},
   "outputs": [
    {
     "name": "stdout",
     "output_type": "stream",
     "text": [
      "Car rides to New York depart every 2:45 minutes starting from 8:00 until Selling tickets for the next available ride to New York.\n"
     ]
    },
    {
     "name": "stdin",
     "output_type": "stream",
     "text": [
      "Enter 1 to print one ticket, -1 to turn off the app:  1\n"
     ]
    },
    {
     "name": "stdout",
     "output_type": "stream",
     "text": [
      "1065\n",
      "1\n",
      "*********************************************333\n",
      "TICKET 1 for the ride departing at 19:0\n",
      "*********************************************\n"
     ]
    },
    {
     "name": "stdin",
     "output_type": "stream",
     "text": [
      "Enter 1 to print one ticket, -1 to turn off the app:  1\n"
     ]
    },
    {
     "name": "stdout",
     "output_type": "stream",
     "text": [
      "1065\n",
      "2\n",
      "*********************************************333\n",
      "TICKET 2 for the ride departing at 19:0\n",
      "*********************************************\n"
     ]
    },
    {
     "name": "stdin",
     "output_type": "stream",
     "text": [
      "Enter 1 to print one ticket, -1 to turn off the app:  1\n"
     ]
    },
    {
     "name": "stdout",
     "output_type": "stream",
     "text": [
      "1065\n",
      "3\n",
      "*********************************************333\n",
      "TICKET 3 for the ride departing at 19:0\n",
      "*********************************************\n"
     ]
    },
    {
     "name": "stdin",
     "output_type": "stream",
     "text": [
      "Enter 1 to print one ticket, -1 to turn off the app:  1\n"
     ]
    },
    {
     "name": "stdout",
     "output_type": "stream",
     "text": [
      "1065\n"
     ]
    }
   ],
   "source": [
    "rideNum = (LASTBEFORE - FIRSTCAR) // INTERVAL\n",
    "print('Car rides to New York depart every 2:45 minutes starting from 8:00 until Selling tickets for the next \\\n",
    "available ride to New York.')\n",
    "\n",
    "trigger = True\n",
    "ticketcount = 0\n",
    "\n",
    "while trigger:\n",
    "    \n",
    "    button = eval(input('Enter 1 to print one ticket, -1 to turn off the app: '))\n",
    "    if button == 1:\n",
    "        timeNow = 17*60+45\n",
    "        print(timeNow)\n",
    "        \n",
    "        if (timeNow + 1) <= FIRSTCAR:\n",
    "            if ticketcount < 3:\n",
    "                ticketcount += 1\n",
    "                print('*********************************************111')\n",
    "                print('TICKET ' + str(ticketcount) + ' for the ride departing at 8:00')\n",
    "                print('*********************************************')\n",
    "            else:\n",
    "                if rideNum * 3 > ticketcount:\n",
    "                    numOfRide = ticketcount // 3\n",
    "                    departTime = numOfRide * INTERVAL + FIRSTCAR\n",
    "                    avalHour = departTime // 60\n",
    "                    avalMin = departTime % 60\n",
    "                    print('8:00 ride is full')\n",
    "                    ticketcount += 1\n",
    "                    print('*********************************************222')\n",
    "                    print('TICKET ' + str(ticketcount) + ' for the ride departing at ' + str(avalHour) + ':' + str(avalMin))\n",
    "                    print('*********************************************')\n",
    "                else:\n",
    "                    print('21:45 ride is full')\n",
    "                    print('No seats are available for today. Please come again tomorrow.')\n",
    "                    print()\n",
    "                    print('Exiting... printed ' + str(ticketcount) + ' tickets today')\n",
    "                    trigger = False\n",
    "\n",
    "        elif (timeNow + 1) > FIRSTCAR and (timeNow + 1) <= LASTBEFORE:\n",
    "            #if now is later than 8am\n",
    "            if rideNum * 3 > ticketcount:\n",
    "                arriveRound = (timeNow - FIRSTCAR) // INTERVAL + 1\n",
    "                actualTicketRound = ticketcount // 3 #calculated according to the number of left tickets\n",
    "                if arriveRound <= actualTicketRound:\n",
    "                    departTime = actualTicketRound * INTERVAL + FIRSTCAR\n",
    "                    closeHour = (arriveRound * INTERVAL + FIRSTCAR)//60\n",
    "                    closeMin = (arriveRound * INTERVAL + FIRSTCAR)%60\n",
    "                    print(closeHour + ':' + closeMIN + ' ride is full')\n",
    "                else:\n",
    "                    departTime = arriveRound * INTERVAL + FIRSTCAR\n",
    "                \n",
    "                ticketcount += 1\n",
    "                avalHour = departTime // 60\n",
    "                avalMin = departTime % 60\n",
    "                print(ticketcount)\n",
    "                print('*********************************************333')\n",
    "                print('TICKET ' + str(ticketcount) + ' for the ride departing at ' + str(avalHour) + ':' + str(avalMin))\n",
    "                print('*********************************************')\n",
    "            else:\n",
    "                print('21:45 ride is full')\n",
    "                print('No seats are available for today. Please come again tomorrow.')\n",
    "                print()\n",
    "                print('Exiting... printed ' + str(ticketcount) + ' tickets today')\n",
    "                trigger = False\n",
    "    \n",
    "        else:\n",
    "            print('21:45 ride is full')\n",
    "            print('No seats are available for today. Please come again tomorrow.')\n",
    "            trigger = False\n",
    "            \n",
    "    else:\n",
    "        print('Exiting... printed ' + str(ticketcount) + ' tickets today')\n",
    "        trigger = False"
   ]
  },
  {
   "cell_type": "code",
   "execution_count": null,
   "metadata": {},
   "outputs": [],
   "source": []
  }
 ],
 "metadata": {
  "kernelspec": {
   "display_name": "Python 3",
   "language": "python",
   "name": "python3"
  },
  "language_info": {
   "codemirror_mode": {
    "name": "ipython",
    "version": 3
   },
   "file_extension": ".py",
   "mimetype": "text/x-python",
   "name": "python",
   "nbconvert_exporter": "python",
   "pygments_lexer": "ipython3",
   "version": "3.7.6"
  }
 },
 "nbformat": 4,
 "nbformat_minor": 4
}
