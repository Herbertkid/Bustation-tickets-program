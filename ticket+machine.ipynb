{
 "cells": [
  {
   "cell_type": "code",
   "execution_count": 1,
   "metadata": {},
   "outputs": [],
   "source": [
    "from datetime import datetime\n",
    "FIRSTCAR = 8*60 # time when the first car departs, in minutes \n",
    "LASTBEFORE = 21*60 + 45 # last car will depart at or before this time \n",
    "INTERVAL = 2*60 + 45 # time interval between two consecutive cars \n",
    "CAPACITY = 3 # number of passengers in one car\n",
    "\n",
    "def timeNowMins():\n",
    "    ''' Function returns the current time, expressed as an integer number from\n",
    "        the beginning of the day. Also prints current time'''\n",
    "    now = datetime.now()\n",
    "    print(\"Time now is \", now.strftime(\"%H:%M\"),)\n",
    "    return now.hour * 60 + now.minute"
   ]
  },
  {
   "cell_type": "code",
   "execution_count": 2,
   "metadata": {},
   "outputs": [],
   "source": [
    "import pandas as pd\n"
   ]
  },
  {
   "cell_type": "code",
   "execution_count": 3,
   "metadata": {},
   "outputs": [
    {
     "name": "stdout",
     "output_type": "stream",
     "text": [
      "Car rides to New York depart every 2:45 minutes starting from 8:00 until Selling tickets for the next available ride to New York.\n"
     ]
    },
    {
     "name": "stdin",
     "output_type": "stream",
     "text": [
      "Enter 1 to print one ticket, -1 to turn off the app:  1\n",
      "Enter time  180\n"
     ]
    },
    {
     "name": "stdout",
     "output_type": "stream",
     "text": [
      "time now is 3:0\n",
      "*********************************************111\n",
      "TICKET 1 for the ride departing at 8:0\n",
      "*********************************************\n",
      "\n"
     ]
    },
    {
     "name": "stdin",
     "output_type": "stream",
     "text": [
      "Enter 1 to print one ticket, -1 to turn off the app:  1\n",
      "Enter time  180\n"
     ]
    },
    {
     "name": "stdout",
     "output_type": "stream",
     "text": [
      "time now is 3:0\n",
      "*********************************************111\n",
      "TICKET 2 for the ride departing at 8:0\n",
      "*********************************************\n",
      "\n"
     ]
    },
    {
     "name": "stdin",
     "output_type": "stream",
     "text": [
      "Enter 1 to print one ticket, -1 to turn off the app:  1\n",
      "Enter time  180\n"
     ]
    },
    {
     "name": "stdout",
     "output_type": "stream",
     "text": [
      "time now is 3:0\n",
      "*********************************************111\n",
      "TICKET 3 for the ride departing at 8:0\n",
      "*********************************************\n",
      "\n"
     ]
    },
    {
     "name": "stdin",
     "output_type": "stream",
     "text": [
      "Enter 1 to print one ticket, -1 to turn off the app:  1\n",
      "Enter time  180\n"
     ]
    },
    {
     "name": "stdout",
     "output_type": "stream",
     "text": [
      "time now is 3:0\n",
      "8:0 ride is full\n",
      "*********************************************111\n",
      "TICKET 4 for the ride departing at 10:45\n",
      "*********************************************\n",
      "\n"
     ]
    },
    {
     "name": "stdin",
     "output_type": "stream",
     "text": [
      "Enter 1 to print one ticket, -1 to turn off the app:  1\n",
      "Enter time  180\n"
     ]
    },
    {
     "name": "stdout",
     "output_type": "stream",
     "text": [
      "time now is 3:0\n",
      "8:0 ride is full\n",
      "*********************************************111\n",
      "TICKET 5 for the ride departing at 10:45\n",
      "*********************************************\n",
      "\n"
     ]
    },
    {
     "name": "stdin",
     "output_type": "stream",
     "text": [
      "Enter 1 to print one ticket, -1 to turn off the app:  1\n",
      "Enter time  180\n"
     ]
    },
    {
     "name": "stdout",
     "output_type": "stream",
     "text": [
      "time now is 3:0\n",
      "8:0 ride is full\n",
      "*********************************************111\n",
      "TICKET 6 for the ride departing at 10:45\n",
      "*********************************************\n",
      "\n"
     ]
    },
    {
     "name": "stdin",
     "output_type": "stream",
     "text": [
      "Enter 1 to print one ticket, -1 to turn off the app:  1\n",
      "Enter time  600\n"
     ]
    },
    {
     "name": "stdout",
     "output_type": "stream",
     "text": [
      "time now is 10:0\n",
      "10:45 ride is full\n",
      "*********************************************111\n",
      "TICKET 7 for the ride departing at 13:30\n",
      "*********************************************\n",
      "\n"
     ]
    },
    {
     "name": "stdin",
     "output_type": "stream",
     "text": [
      "Enter 1 to print one ticket, -1 to turn off the app:  1\n",
      "Enter time  600\n"
     ]
    },
    {
     "name": "stdout",
     "output_type": "stream",
     "text": [
      "time now is 10:0\n",
      "10:45 ride is full\n",
      "*********************************************111\n",
      "TICKET 8 for the ride departing at 13:30\n",
      "*********************************************\n",
      "\n"
     ]
    },
    {
     "name": "stdin",
     "output_type": "stream",
     "text": [
      "Enter 1 to print one ticket, -1 to turn off the app:  1\n",
      "Enter time  600\n"
     ]
    },
    {
     "name": "stdout",
     "output_type": "stream",
     "text": [
      "time now is 10:0\n",
      "10:45 ride is full\n",
      "*********************************************111\n",
      "TICKET 9 for the ride departing at 13:30\n",
      "*********************************************\n",
      "\n"
     ]
    },
    {
     "name": "stdin",
     "output_type": "stream",
     "text": [
      "Enter 1 to print one ticket, -1 to turn off the app:  1\n",
      "Enter time  180\n"
     ]
    },
    {
     "name": "stdout",
     "output_type": "stream",
     "text": [
      "time now is 3:0\n",
      "8:0 ride is full\n",
      "*********************************************111\n",
      "TICKET 10 for the ride departing at 16:15\n",
      "*********************************************\n",
      "\n"
     ]
    },
    {
     "name": "stdin",
     "output_type": "stream",
     "text": [
      "Enter 1 to print one ticket, -1 to turn off the app:  1\n",
      "Enter time  1360\n"
     ]
    },
    {
     "name": "stdout",
     "output_type": "stream",
     "text": [
      "time now is 22:40\n",
      "No seats are available for today. Please come again tomorrow.\n",
      "\n",
      "Exiting... printed 10 tickets today\n"
     ]
    }
   ],
   "source": [
    "rideNum = (LASTBEFORE - FIRSTCAR) // INTERVAL\n",
    "\n",
    "ticketslot = pd.DataFrame(columns=['hours','mins','time','tnumber'])\n",
    "for i in range(rideNum+1):\n",
    "    hours = (FIRSTCAR+i*INTERVAL) // 60\n",
    "    mins = (FIRSTCAR+i*INTERVAL) % 60\n",
    "    row = pd.DataFrame([[hours,mins,FIRSTCAR+i*INTERVAL,0]],columns=['hours','mins','time','tnumber'])\n",
    "    ticketslot = ticketslot.append(row,ignore_index=True)\n",
    "    \n",
    "ticketlist = []\n",
    "trigger = True\n",
    "print('Car rides to New York depart every 2:45 minutes starting from 8:00 until Selling tickets for the next \\\n",
    "available ride to New York.')\n",
    "\n",
    "while trigger:\n",
    "    button = eval(input('Enter 1 to print one ticket, -1 to turn off the app: '))\n",
    "    if button == 1:\n",
    "        \n",
    "#         timeNow = timeNowMins() \n",
    "        timeNow=eval(input('Enter time ：（exm：480）'))\n",
    "        print('time now is ' + str(timeNow//60) +\":\"+ str(timeNow%60) )\n",
    "        \n",
    "        if timeNow < FIRSTCAR:\n",
    "            avalround = 0\n",
    "        elif timeNow >= LASTBEFORE :\n",
    "            print('No seats are available for today. Please come again tomorrow.')\n",
    "            print()\n",
    "            print('Exiting... printed ' + str(ticketlist[-1][0]) + ' tickets today')\n",
    "            break\n",
    "        else:\n",
    "            avalround = (timeNow - FIRSTCAR) // INTERVAL + 1\n",
    "            \n",
    "        if ticketslot.loc[avalround]['tnumber'] < CAPACITY:\n",
    "            ticketlist.append([len(ticketlist)+1,ticketslot.loc[avalround]['hours'],ticketslot.loc[avalround]['mins'],avalround])\n",
    "            ticketslot.loc[avalround]['tnumber'] = ticketslot.loc[avalround]['tnumber']+1\n",
    "            \n",
    "        else:\n",
    "            print(str(ticketslot.loc[avalround]['hours'])+':'+str(ticketslot.loc[avalround]['mins'])+' ride is full')\n",
    "            \n",
    "            if  ticketslot.loc[ticketlist[-1][3]]['tnumber'] < CAPACITY:\n",
    "                ticketlist.append([len(ticketlist)+1,ticketslot.loc[ticketlist[-1][3]]['hours']\n",
    "                                   ,ticketslot.loc[ticketlist[-1][3]]['mins'],ticketlist[-1][3]])\n",
    "                ticketslot.loc[ticketlist[-1][3]]['tnumber'] = ticketslot.loc[ticketlist[-1][3]]['tnumber']+1\n",
    "            elif ticketlist[-1][3]+1 < rideNum+1:\n",
    "                ticketslot.loc[ticketlist[-1][3]+1]['tnumber'] = ticketslot.loc[ticketlist[-1][3]+1]['tnumber']+1\n",
    "                ticketlist.append([len(ticketlist)+1,ticketslot.loc[ticketlist[-1][3]+1]['hours'],\n",
    "                                   ticketslot.loc[ticketlist[-1][3]+1]['mins'],ticketlist[-1][3]+1])\n",
    "            else:\n",
    "                print('No seats are available for today. Please come again tomorrow.')\n",
    "                print()\n",
    "                print('Exiting... printed ' + str(ticketlist[-1][0]) + ' tickets today')\n",
    "                break\n",
    "            \n",
    "        print('*********************************************')\n",
    "        print('TICKET ' + str(ticketlist[-1][0])+ ' for the ride departing at ' + \n",
    "              str(ticketlist[-1][1]) + \":\" + str(ticketlist[-1][2]))\n",
    "        print('*********************************************')\n",
    "        print()\n",
    "        \n",
    "    elif button == -1:\n",
    "        print('Exiting... printed ' + str(ticketlist[-1][0]) + ' tickets today')\n",
    "        trigger = False\n",
    "    else:\n",
    "        print(\"Wrong number\")\n",
    "        \n",
    "    \n",
    "    \n",
    "    "
   ]
  },
  {
   "cell_type": "code",
   "execution_count": 2,
   "metadata": {},
   "outputs": [
    {
     "name": "stdout",
     "output_type": "stream",
     "text": [
      "Car rides to New York depart every 2:45 minutes starting from 8:00 until Selling tickets for the next available ride to New York.\n"
     ]
    },
    {
     "name": "stdin",
     "output_type": "stream",
     "text": [
      "Enter 1 to print one ticket, -1 to turn off the app:  1\n"
     ]
    },
    {
     "name": "stdout",
     "output_type": "stream",
     "text": [
      "Time now is  10:33\n",
      "633\n",
      "*********************************************333\n",
      "TICKET 1 for the ride departing at 10:45\n",
      "*********************************************\n"
     ]
    },
    {
     "name": "stdin",
     "output_type": "stream",
     "text": [
      "Enter 1 to print one ticket, -1 to turn off the app:  -1\n"
     ]
    },
    {
     "name": "stdout",
     "output_type": "stream",
     "text": [
      "Exiting... printed 1 tickets today\n"
     ]
    }
   ],
   "source": [
    "rideNum = (LASTBEFORE - FIRSTCAR) // INTERVAL\n",
    "print('Car rides to New York depart every 2:45 minutes starting from 8:00 until Selling tickets for the next \\\n",
    "available ride to New York.')\n",
    "\n",
    "trigger = True\n",
    "ticketcount = 0\n",
    "while trigger:\n",
    "    \n",
    "    button = eval(input('Enter 1 to print one ticket, -1 to turn off the app: '))\n",
    "    if button == 1:\n",
    "        timeNow = timeNowMins() \n",
    "        print(timeNow)\n",
    "        \n",
    "        if (timeNow + 1) <= FIRSTCAR:\n",
    "            if ticketcount < 3:\n",
    "                ticketcount += 1\n",
    "                print('*********************************************111')\n",
    "                print('TICKET ' + str(ticketcount) + ' for the ride departing at 8:00')\n",
    "                print('*********************************************')\n",
    "            else:\n",
    "                if rideNum * 3 > ticketcount:\n",
    "                    numOfRide = ticketcount // 3\n",
    "                    departTime = numOfRide * INTERVAL + FIRSTCAR\n",
    "                    avalHour = departTime // 60\n",
    "                    avalMin = departTime % 60\n",
    "                    print('8:00 ride is full')\n",
    "                    ticketcount += 1\n",
    "                    print('*********************************************222')\n",
    "                    print('TICKET ' + str(ticketcount) + ' for the ride departing at ' + str(avalHour) + ':' + str(avalMin))\n",
    "                    print('*********************************************')\n",
    "                else:\n",
    "                    print('21:45 ride is full')\n",
    "                    print('No seats are available for today. Please come again tomorrow.')\n",
    "                    print()\n",
    "                    print('Exiting... printed ' + str(ticketcount) + ' tickets today')\n",
    "                    trigger = False\n",
    "\n",
    "        elif (timeNow + 1) > FIRSTCAR and (timeNow + 1) <= LASTBEFORE:\n",
    "            #if now is later than 8am\n",
    "            if rideNum * 3 > ticketcount:\n",
    "                arriveRound = (timeNow - FIRSTCAR) // INTERVAL + 1\n",
    "                actualTicketRound = ticketcount // 3 #calculated according to the number of left tickets\n",
    "                if arriveRound <= actualTicketRound:\n",
    "                    departTime = actualTicketRound * INTERVAL + FIRSTCAR\n",
    "                    closeHour = (arriveRound * INTERVAL + FIRSTCAR)//60\n",
    "                    closeMin = (arriveRound * INTERVAL + FIRSTCAR)%60\n",
    "                    print(closeHour + ':' + closeMIN + ' ride is full')\n",
    "                else:\n",
    "                    departTime = arriveRound * INTERVAL + FIRSTCAR\n",
    "                ticketcount += 1\n",
    "                avalHour = departTime // 60\n",
    "                avalMin = departTime % 60\n",
    "                print('*********************************************333')\n",
    "                print('TICKET ' + str(ticketcount) + ' for the ride departing at ' + str(avalHour) + ':' + str(avalMin))\n",
    "                print('*********************************************')\n",
    "            else:\n",
    "                print('21:45 ride is full')\n",
    "                print('No seats are available for today. Please come again tomorrow.')\n",
    "                print()\n",
    "                print('Exiting... printed ' + str(ticketcount) + ' tickets today')\n",
    "                trigger = False\n",
    "    \n",
    "        else:\n",
    "            print('21:45 ride is full')\n",
    "            print('No seats are available for today. Please come again tomorrow.')\n",
    "            trigger = False\n",
    "            \n",
    "    else:\n",
    "        print('Exiting... printed ' + str(ticketcount) + ' tickets today')\n",
    "        trigger = False"
   ]
  },
  {
   "cell_type": "code",
   "execution_count": null,
   "metadata": {},
   "outputs": [],
   "source": []
  }
 ],
 "metadata": {
  "kernelspec": {
   "display_name": "Python 3",
   "language": "python",
   "name": "python3"
  },
  "language_info": {
   "codemirror_mode": {
    "name": "ipython",
    "version": 3
   },
   "file_extension": ".py",
   "mimetype": "text/x-python",
   "name": "python",
   "nbconvert_exporter": "python",
   "pygments_lexer": "ipython3",
   "version": "3.7.6"
  }
 },
 "nbformat": 4,
 "nbformat_minor": 4
}
